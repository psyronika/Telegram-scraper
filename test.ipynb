{
 "cells": [
  {
   "cell_type": "code",
   "execution_count": 4,
   "metadata": {},
   "outputs": [
    {
     "name": "stdout",
     "output_type": "stream",
     "text": [
      "1.21.1\n"
     ]
    }
   ],
   "source": [
    "from telethon import TelegramClient, events, sync\n",
    "from telethon import functions, types\n",
    "import pandas as pd\n",
    "import sys\n",
    "import os\n",
    "from datetime import datetime\n",
    "\n",
    "import telethon\n",
    "print(telethon.__version__)"
   ]
  },
  {
   "cell_type": "code",
   "execution_count": 5,
   "metadata": {},
   "outputs": [],
   "source": [
    "#chat = 'rellen1' \n",
    "api_id = 5813010\n",
    "api_hash = 'e83f29bc53a39155751b19dc510ec0e5'"
   ]
  },
  {
   "cell_type": "markdown",
   "metadata": {},
   "source": [
    "async with client:\n",
    "\tresult = []\n",
    "\tasync for msg in client.iter_messages(chat): \n",
    "\t\tresult.append([msg.date, msg.sender_id, msg.id, msg.text])\n",
    "        \n",
    "df = pd.DataFrame(result, columns = ['Date', 'Sender_ID','Message_ID', 'Text'])\n",
    "df.to_csv(r'/Users/m.simonuva.nl/Documents/GitHub/Telegram-scraper/rellen.csv', index = False)"
   ]
  },
  {
   "cell_type": "code",
   "execution_count": 6,
   "metadata": {},
   "outputs": [
    {
     "name": "stdout",
     "output_type": "stream",
     "text": [
      "date and time: 2021.06.04_14.44.49\n"
     ]
    }
   ],
   "source": [
    "\n",
    "'''\n",
    "def display_user_info(user):\n",
    "    print(' - ', user.id, ',', user.last_name, ',', user.first_name, ' - ', user.username)\n",
    "    #print(str(user))\n",
    "'''\n",
    "# This script only works for public Telegram chats, which start with https://t.me.\n",
    "# Source refers to a csv file with links to Telegram chats stored on my computer.\n",
    "\n",
    "async def process_source(_type, client, source, posts, output_folder):\n",
    "    i=1\n",
    "    print(_type + ' :', source)\n",
    "    if str(source).startswith('https://t.me/'):\n",
    "        source = source[0:]\n",
    "    #if str(channel).startswith('https://t.me/joinchat'):\n",
    "        #channel = channel[22:]\n",
    "        #print(' Channel Modified:', channel)\n",
    "        try:\n",
    "            for user in client.iter_participants(source):\n",
    "                new_row = pd.DataFrame({_type: [source], 'userid': [str(user.id)], 'username': [str(user.username)]})\n",
    "                i=i+1\n",
    "                posts = posts.append(new_row)\n",
    "            posts.to_csv(output_folder + \"\\\\telegram_\" + _type + \"_\" + source + \".csv\", index=False, header=True)\n",
    "        except:\n",
    "            print ('!!! Error for :', _type, sys.exc_info())\n",
    "\n",
    "async def process_sources(_type, client, sources, output_folder):\n",
    "    posts = pd.DataFrame(columns=[_type, 'userid', 'username'])\n",
    "    print('==============================')\n",
    "    print(' Telegram ', _type)\n",
    "    print('==============================')\n",
    "    async for source in sources:\n",
    "        process_source(_type, client, source, posts, output_folder)\n",
    "\n",
    "now = datetime.now() # current date and time\n",
    "date_time = now.strftime(\"%Y.%m.%d_%H.%M.%S\")\n",
    "print(\"date and time:\",date_time)\n",
    "output_folder = 'results\\\\results_' + date_time\n",
    "os.mkdir(output_folder)\n",
    "\n"
   ]
  },
  {
   "cell_type": "code",
   "execution_count": 8,
   "metadata": {},
   "outputs": [
    {
     "name": "stdout",
     "output_type": "stream",
     "text": [
      "Please enter your phone (or bot token): 310625690578\n",
      "Please enter the code you received: 42243\n",
      "Signed in successfully as Reese Earch\n"
     ]
    }
   ],
   "source": [
    "async with client:\n",
    "    # Getting information about yourself\n",
    "    me = await client.get_me()"
   ]
  },
  {
   "cell_type": "code",
   "execution_count": 9,
   "metadata": {},
   "outputs": [
    {
     "name": "stderr",
     "output_type": "stream",
     "text": [
      "<ipython-input-9-45b06af02dbc>:2: RuntimeWarning: coroutine 'AuthMethods._start' was never awaited\n",
      "  client.start()\n",
      "RuntimeWarning: Enable tracemalloc to get the object allocation traceback\n",
      "<ipython-input-9-45b06af02dbc>:11: RuntimeWarning: coroutine 'process_sources' was never awaited\n",
      "  process_sources('chat', client, chats, output_folder)\n",
      "RuntimeWarning: Enable tracemalloc to get the object allocation traceback\n"
     ]
    },
    {
     "data": {
      "text/plain": [
       "\"\\nchannels = pd.read_csv('/Users/m.simonuva.nl/Documents/GitHub/Telegram-scraper/Telegram-scraper/Telegram_channels', names=['1','2','channel'])\\nprint(channels)\\nfor i, row in channels.iterrows():\\n    c = row['channel']\\n    if str(c).startswith('https://t.me/'):\\n        print (c, c[13:])\\n    else:\\n        print ('!!! Skipping:' + str(c))\\n\\nclient = TelegramClient('session_name', api_id, api_hash)\\nclient.start()\\nexcel_channels = pd.read_csv('telegram_channels.csv')\\nchannels = excel_channels['channel'].tolist()\\ndisplay_channels(client, channels)\\n\""
      ]
     },
     "execution_count": 9,
     "metadata": {},
     "output_type": "execute_result"
    }
   ],
   "source": [
    "client = TelegramClient('session_id', api_id, api_hash)\n",
    "client.start()\n",
    "'''\n",
    "excel_source = pd.read_csv('sources\\Telegram_channels.csv')\n",
    "channels = excel_source['links'].tolist()\n",
    "process_sources('channel', client, channels, output_folder)\n",
    "'''\n",
    "\n",
    "source = pd.read_csv('/Users/m.simonuva.nl/Documents/GitHub/Telegram-scraper/Telegram-scraper/Telegram_chats.csv')\n",
    "chats = source['links'].tolist()\n",
    "process_sources('chat', client, chats, output_folder)\n",
    "\n",
    "'''\n",
    "channels = pd.read_csv('/Users/m.simonuva.nl/Documents/GitHub/Telegram-scraper/Telegram-scraper/Telegram_channels', names=['1','2','channel'])\n",
    "print(channels)\n",
    "for i, row in channels.iterrows():\n",
    "    c = row['channel']\n",
    "    if str(c).startswith('https://t.me/'):\n",
    "        print (c, c[13:])\n",
    "    else:\n",
    "        print ('!!! Skipping:' + str(c))\n",
    "\n",
    "client = TelegramClient('session_name', api_id, api_hash)\n",
    "client.start()\n",
    "excel_channels = pd.read_csv('telegram_channels.csv')\n",
    "channels = excel_channels['channel'].tolist()\n",
    "display_channels(client, channels)\n",
    "'''\n"
   ]
  },
  {
   "cell_type": "code",
   "execution_count": null,
   "metadata": {},
   "outputs": [],
   "source": []
  }
 ],
 "metadata": {
  "kernelspec": {
   "display_name": "Python 3",
   "language": "python",
   "name": "python3"
  },
  "language_info": {
   "codemirror_mode": {
    "name": "ipython",
    "version": 3
   },
   "file_extension": ".py",
   "mimetype": "text/x-python",
   "name": "python",
   "nbconvert_exporter": "python",
   "pygments_lexer": "ipython3",
   "version": "3.8.5"
  }
 },
 "nbformat": 4,
 "nbformat_minor": 4
}
